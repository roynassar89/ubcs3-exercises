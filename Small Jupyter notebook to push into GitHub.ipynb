{
 "cells": [
  {
   "cell_type": "markdown",
   "metadata": {},
   "source": [
    "# Project for the summer\n",
    "## Aim: Using computational tools to study biomolecular structures\n"
   ]
  },
  {
   "cell_type": "markdown",
   "metadata": {},
   "source": [
    "* System to study: protein structures and dynamics\n",
    "![proteins](https://upload.wikimedia.org/wikipedia/commons/c/c9/Main_protein_structure_levels_en.svg)\n",
    "* Simulation tools: NAMD, CHARMM\n",
    "* Analysis tools: VMD, wordom, python\n",
    "* Free Energy calculations: $\\Delta G=-k_bT \\cdot ln(N/N_0)$\n"
   ]
  },
  {
   "cell_type": "code",
   "execution_count": null,
   "metadata": {
    "collapsed": true
   },
   "outputs": [],
   "source": []
  }
 ],
 "metadata": {
  "kernelspec": {
   "display_name": "Python 3",
   "language": "python",
   "name": "python3"
  },
  "language_info": {
   "codemirror_mode": {
    "name": "ipython",
    "version": 3
   },
   "file_extension": ".py",
   "mimetype": "text/x-python",
   "name": "python",
   "nbconvert_exporter": "python",
   "pygments_lexer": "ipython3",
   "version": "3.5.1"
  }
 },
 "nbformat": 4,
 "nbformat_minor": 0
}
